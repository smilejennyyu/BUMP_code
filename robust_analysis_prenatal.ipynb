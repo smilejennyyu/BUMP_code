{
 "cells": [
  {
   "cell_type": "code",
   "execution_count": null,
   "metadata": {},
   "outputs": [],
   "source": [
    "import networkx\n",
    "import notears.notears as notears\n",
    "import matplotlib.pyplot as plt\n",
    "import numpy as np\n",
    "import torch\n",
    "adj_mat_list = []\n",
    "for i in range(10):\n",
    "    adj_mat_list.append(torch.Tensor(np.load(f'/mnt/results/adj_mat/W_{i}.npy')))\n",
    "mean_W = torch.mean(torch.stack(adj_mat_list), dim=0).numpy()\n",
    "plt.matshow(mean_W)\n",
    "plt.title(\"Learned adjacency matrix\")\n",
    "plt.colorbar()\n",
    "\n"
   ]
  },
  {
   "cell_type": "code",
   "execution_count": null,
   "metadata": {},
   "outputs": [],
   "source": [
    "acyclic_W = notears.utils.threshold_output(mean_W)\n",
    "\n",
    "plt.matshow(acyclic_W)\n",
    "plt.title(\"Learned adjacency matrix (thresholded)\")\n",
    "plt.colorbar()\n"
   ]
  },
  {
   "cell_type": "code",
   "execution_count": null,
   "metadata": {},
   "outputs": [],
   "source": [
    "\n",
    "G = networkx.DiGraph(acyclic_W)\n",
    "networkx.draw(G, with_labels=True)\n",
    "\n"
   ]
  },
  {
   "cell_type": "code",
   "execution_count": null,
   "metadata": {},
   "outputs": [],
   "source": [
    "weighted_G = networkx.DiGraph((mean_W * acyclic_W).round(1))\n",
    "layout = networkx.shell_layout(weighted_G)\n",
    "networkx.draw(weighted_G, layout, node_size=1000, with_labels=True, font_weight='bold', font_size=15)\n",
    "labels = networkx.get_edge_attributes(weighted_G,'weight')\n",
    "networkx.draw_networkx_edge_labels(weighted_G,pos=layout,edge_labels=labels)\n"
   ]
  },
  {
   "cell_type": "code",
   "execution_count": null,
   "metadata": {},
   "outputs": [],
   "source": [
    "import seaborn as sns\n",
    "import networkx\n",
    "import notears.notears as notears\n",
    "import matplotlib.pyplot as plt\n",
    "import numpy as np\n",
    "import torch\n",
    "promis_mental_lst = [f'promis_global10_mental_{x}' for x in range(1,5)]\n",
    "promis_physical_lst = [f'promis_global10_physical_{x}' for x in range(1,5)]\n",
    "ace_lst = [f'ace_{x}' for x in range(1,11)]\n",
    "phq9_lst = [f'phq9_{x}' for x in range(1,11)]\n",
    "gad_lst = [f'gad_{x}' for x in range(1,9)]\n",
    "\n",
    "question_labels = ace_lst + phq9_lst + gad_lst + promis_mental_lst + promis_physical_lst\n",
    "\n",
    "#question_labels =  phq9_lst + gad_lst + promis_mental_lst + promis_physical_lst\n",
    "data_dict = np.load(f'/mnt/results/absent_edge_exact_same_set_user_individual/W_prenatal.npy')\n",
    "\n",
    "f1, ax1 = plt.subplots(figsize=(13, 14))\n",
    "\n",
    "cmap = sns.diverging_palette(230, 20, as_cmap=True)\n",
    "sns.heatmap(data_dict, cmap=cmap, center=0, square=True, linewidths=.5, cbar_kws={'shrink': .5}, xticklabels=question_labels, yticklabels=question_labels)"
   ]
  },
  {
   "cell_type": "code",
   "execution_count": null,
   "metadata": {},
   "outputs": [],
   "source": [
    "import seaborn as sns\n",
    "import networkx\n",
    "import notears.notears as notears\n",
    "import matplotlib.pyplot as plt\n",
    "import numpy as np\n",
    "import torch\n",
    "promis_mental_lst = [f'promis_global10_mental_{x}' for x in range(1,5)]\n",
    "promis_physical_lst = [f'promis_global10_physical_{x}' for x in range(1,5)]\n",
    "ace_lst = [f'ace_{x}' for x in range(1,11)]\n",
    "phq9_lst = [f'phq9_{x}' for x in range(1,11)]\n",
    "gad_lst = [f'gad_{x}' for x in range(1,9)]\n",
    "\n",
    "question_labels = ace_lst + phq9_lst + gad_lst + promis_mental_lst + promis_physical_lst\n",
    "\n",
    "#question_labels =  phq9_lst + gad_lst + promis_mental_lst + promis_physical_lst\n",
    "data_dict = np.load(f'/mnt/results/exact_same_set_user_individual/W_postnatal.npy')\n",
    "\n",
    "f1, ax1 = plt.subplots(figsize=(13, 14))\n",
    "\n",
    "cmap = sns.diverging_palette(230, 20, as_cmap=True)\n",
    "sns.heatmap(data_dict, cmap=cmap, center=0, square=True, linewidths=.5, cbar_kws={'shrink': .5}, xticklabels=question_labels, yticklabels=question_labels)"
   ]
  },
  {
   "cell_type": "code",
   "execution_count": null,
   "metadata": {},
   "outputs": [],
   "source": []
  }
 ],
 "metadata": {
  "language_info": {
   "name": "python",
   "pygments_lexer": "ipython3"
  }
 },
 "nbformat": 4,
 "nbformat_minor": 2
}
